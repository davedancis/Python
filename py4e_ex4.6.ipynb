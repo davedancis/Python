{
 "cells": [
  {
   "cell_type": "code",
   "execution_count": null,
   "id": "01d6775f",
   "metadata": {},
   "outputs": [],
   "source": [
    "def computepay(h, r):\n",
    "    h = float(hrs)\n",
    "    r = float(rate)\n",
    "    \n",
    "    if h > 40:\n",
    "        pay = ((h - 40) * (1.5 * r)) + (40*r)\n",
    "    else:\n",
    "        pay = h * r\n",
    "    return(pay)\n",
    "\n",
    "hrs = input(\"Enter Hours:\")\n",
    "rate = input(\"Enter rate:\")\n",
    "\n",
    "p = computepay(h, r)\n",
    "print(\"Pay\", p)"
   ]
  },
  {
   "cell_type": "code",
   "execution_count": null,
   "id": "1b071ac8",
   "metadata": {},
   "outputs": [],
   "source": [
    "#Write a program to prompt the user for hours and rate per hour using input to compute gross pay. \n",
    "#Pay should be the normal rate for hours up to 40 and time-and-a-half for the hourly rate for all hours worked above 40 hours. \n",
    "#Put the logic to do the computation of pay in a function called computepay() and use the function to do the computation. \n",
    "#The function should return a value. \n",
    "#Use 45 hours and a rate of 10.50 per hour to test the program (the pay should be 498.75). \n",
    "#You should use input to read a string and float() to convert the string to a number. \n",
    "#Do not worry about error checking the user input unless you want to - you can assume the user types numbers properly. \n",
    "#Do not name your variable sum or use the sum() function."
   ]
  },
  {
   "cell_type": "code",
   "execution_count": null,
   "id": "dbde15c4",
   "metadata": {},
   "outputs": [],
   "source": []
  }
 ],
 "metadata": {
  "kernelspec": {
   "display_name": "Python 3",
   "language": "python",
   "name": "python3"
  },
  "language_info": {
   "codemirror_mode": {
    "name": "ipython",
    "version": 3
   },
   "file_extension": ".py",
   "mimetype": "text/x-python",
   "name": "python",
   "nbconvert_exporter": "python",
   "pygments_lexer": "ipython3",
   "version": "3.8.8"
  }
 },
 "nbformat": 4,
 "nbformat_minor": 5
}
