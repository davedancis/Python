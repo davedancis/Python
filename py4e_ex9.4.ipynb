{
 "cells": [
  {
   "cell_type": "code",
   "execution_count": 19,
   "id": "c4886e5e",
   "metadata": {},
   "outputs": [
    {
     "name": "stdout",
     "output_type": "stream",
     "text": [
      "Enter file:\n",
      "cwen@iupui.edu 5\n"
     ]
    }
   ],
   "source": [
    "name = input(\"Enter file:\")\n",
    "if len(name) < 1:\n",
    "    name = \"Desktop/py4e/mbox-short.txt\"\n",
    "handle = open(name)\n",
    "\n",
    "hist = dict()\n",
    "count = 0\n",
    "\n",
    "for line in handle:\n",
    "    line = line.rstrip()\n",
    "    words = line.split()\n",
    "    if len(words) < 3:\n",
    "        continue\n",
    "    if words[0] != 'From':\n",
    "        continue\n",
    "    email = words[1]\n",
    "    hist[email] = hist.get(email, 0) + 1\n",
    "\n",
    "bigcount = None\n",
    "bigemail = None\n",
    "for k, v in hist.items():\n",
    "    if bigcount is None or v > bigcount:\n",
    "        bigemail = email\n",
    "        bigcount = v\n",
    "    \n",
    "print(bigemail, bigcount)"
   ]
  },
  {
   "cell_type": "code",
   "execution_count": null,
   "id": "444497b1",
   "metadata": {},
   "outputs": [],
   "source": []
  }
 ],
 "metadata": {
  "kernelspec": {
   "display_name": "Python 3",
   "language": "python",
   "name": "python3"
  },
  "language_info": {
   "codemirror_mode": {
    "name": "ipython",
    "version": 3
   },
   "file_extension": ".py",
   "mimetype": "text/x-python",
   "name": "python",
   "nbconvert_exporter": "python",
   "pygments_lexer": "ipython3",
   "version": "3.8.8"
  }
 },
 "nbformat": 4,
 "nbformat_minor": 5
}
