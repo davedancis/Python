{
 "cells": [
  {
   "cell_type": "code",
   "execution_count": 68,
   "id": "5ad4bf68",
   "metadata": {},
   "outputs": [
    {
     "name": "stdout",
     "output_type": "stream",
     "text": [
      "Enter location: \n",
      "Retreiving: http://py4e-data.dr-chuck.net/json?key=42&address=University+of+Helsinki\n",
      "Characters retreived: 1720\n",
      "Items in list: 2\n",
      "Place ID: ChIJKdnpLyoKkkYRYkemn5HrOD4\n"
     ]
    }
   ],
   "source": [
    "import urllib.request, urllib.parse, urllib.error\n",
    "import json\n",
    "\n",
    "location = input('Enter location: ')\n",
    "if len(location) < 1:\n",
    "    location = 'University of Helsinki'\n",
    "apikey = 42\n",
    "\n",
    "serviceurl = 'http://py4e-data.dr-chuck.net/json?'\n",
    "\n",
    "url = serviceurl + urllib.parse.urlencode({'key' : apikey, 'address': location})\n",
    "info = urllib.request.urlopen(url)\n",
    "data = info.read().decode()\n",
    "listdata = json.loads(data)\n",
    "\n",
    "print('Retreiving:', url)\n",
    "print('Characters retreived:', len(data))\n",
    "print('Items in list:', len(listdata))\n",
    "print('Place ID:', listdata['results'][0]['place_id'])\n"
   ]
  },
  {
   "cell_type": "code",
   "execution_count": null,
   "id": "da01f2b0",
   "metadata": {},
   "outputs": [],
   "source": []
  }
 ],
 "metadata": {
  "kernelspec": {
   "display_name": "Python 3",
   "language": "python",
   "name": "python3"
  },
  "language_info": {
   "codemirror_mode": {
    "name": "ipython",
    "version": 3
   },
   "file_extension": ".py",
   "mimetype": "text/x-python",
   "name": "python",
   "nbconvert_exporter": "python",
   "pygments_lexer": "ipython3",
   "version": "3.8.8"
  }
 },
 "nbformat": 4,
 "nbformat_minor": 5
}
