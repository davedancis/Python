{
 "cells": [
  {
   "cell_type": "code",
   "execution_count": 41,
   "id": "da01f2b0",
   "metadata": {},
   "outputs": [
    {
     "name": "stdout",
     "output_type": "stream",
     "text": [
      "Enter url: \n",
      "Enter number of times to repeat process: 3\n",
      "Enter position: 2\n",
      "2 http://py4e-data.dr-chuck.net/known_by_Montgomery.html Montgomery\n",
      "1 http://py4e-data.dr-chuck.net/known_by_Montgomery.html Montgomery\n",
      "0 http://py4e-data.dr-chuck.net/known_by_Montgomery.html Montgomery\n",
      "Blastoff!\n"
     ]
    }
   ],
   "source": [
    "from urllib.request import urlopen\n",
    "from bs4 import BeautifulSoup\n",
    "import ssl\n",
    "\n",
    "#Test data below:\n",
    "#http://py4e-data.dr-chuck.net/known_by_Fikret.html\n",
    "\n",
    "#Process: https://www.coursera.org/learn/python-network-data/discussions/weeks/4/threads/mHEW4jdqSouxFuI3aqqLzw\n",
    "\n",
    "# Ignore SSL certificate errors\n",
    "ctx = ssl.create_default_context()\n",
    "ctx.check_hostname = False\n",
    "ctx.verify_mode = ssl.CERT_NONE\n",
    "\n",
    "url = input('Enter url: ')\n",
    "if len(url) < 1:\n",
    "    url = 'http://py4e-data.dr-chuck.net/known_by_Fikret.html'\n",
    "\n",
    "    \n",
    "count = input('Enter number of times to repeat process: ')\n",
    "icount = int(count)\n",
    "pos = input('Enter position: ')\n",
    "ipos = int(pos)\n",
    "\n",
    "while icount > 0:\n",
    "    icount = icount - 1\n",
    "    html = urlopen(url, context=ctx).read()\n",
    "    soup = BeautifulSoup(html, \"html.parser\")\n",
    "    tags = soup('a')\n",
    "    newurl = tags[ipos].get('href', None)\n",
    "    name = tags[ipos].contents[0]\n",
    "    print(icount, newurl, name)\n",
    "print('Blastoff!')"
   ]
  },
  {
   "cell_type": "code",
   "execution_count": 37,
   "id": "f6f72d96",
   "metadata": {},
   "outputs": [
    {
     "name": "stdout",
     "output_type": "stream",
     "text": [
      "Enter URL: \n",
      "Enter your position: 18\n",
      "Repeat how many times: 7\n",
      "Retreiving: http://py4e-data.dr-chuck.net/known_by_Eubha.html Eubha\n",
      "Retreiving: http://py4e-data.dr-chuck.net/known_by_Meili.html Meili\n",
      "Retreiving: http://py4e-data.dr-chuck.net/known_by_Fares.html Fares\n",
      "Retreiving: http://py4e-data.dr-chuck.net/known_by_Enis.html Enis\n",
      "Retreiving: http://py4e-data.dr-chuck.net/known_by_Leila.html Leila\n",
      "Retreiving: http://py4e-data.dr-chuck.net/known_by_Abiola.html Abiola\n",
      "Retreiving: http://py4e-data.dr-chuck.net/known_by_Rhythm.html Rhythm\n"
     ]
    }
   ],
   "source": [
    "import urllib.error, urllib.request, urllib.parse\n",
    "from bs4 import BeautifulSoup\n",
    "\n",
    "url = input(\"Enter URL: \")\n",
    "if len(url) < 1:\n",
    "    url = 'http://py4e-data.dr-chuck.net/known_by_Niobe.html'\n",
    "\n",
    "pos = int(input(\"Enter your position: \"))\n",
    "ipos = pos - 1\n",
    "count = int(input(\"Repeat how many times: \"))\n",
    "\n",
    "for i in range(count):\n",
    "    html = urllib.request.urlopen(url).read()\n",
    "    soup = BeautifulSoup(html,'html.parser')\n",
    "    tags = soup('a')\n",
    "    newurl = tags[ipos].get('href',None)\n",
    "    url = newurl\n",
    "    name = tags[ipos].contents[0]\n",
    "    print('Retreiving:', newurl, name)"
   ]
  }
 ],
 "metadata": {
  "kernelspec": {
   "display_name": "Python 3",
   "language": "python",
   "name": "python3"
  },
  "language_info": {
   "codemirror_mode": {
    "name": "ipython",
    "version": 3
   },
   "file_extension": ".py",
   "mimetype": "text/x-python",
   "name": "python",
   "nbconvert_exporter": "python",
   "pygments_lexer": "ipython3",
   "version": "3.8.8"
  }
 },
 "nbformat": 4,
 "nbformat_minor": 5
}
