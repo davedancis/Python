{
 "cells": [
  {
   "cell_type": "code",
   "execution_count": 32,
   "id": "5ad4bf68",
   "metadata": {},
   "outputs": [
    {
     "name": "stdout",
     "output_type": "stream",
     "text": [
      "Enter url: \n",
      "2784\n"
     ]
    }
   ],
   "source": [
    "import urllib.request, urllib.parse, urllib.error\n",
    "import json\n",
    "\n",
    "url = input('Enter url: ')\n",
    "if len(url) < 1:\n",
    "    url = 'http://py4e-data.dr-chuck.net/comments_1293458.json'\n",
    "    \n",
    "connection = urllib.request.urlopen(url)\n",
    "data = connection.read().decode()\n",
    "info = json.loads(data)\n",
    "\n",
    "total = 0\n",
    "\n",
    "for item in info['comments']:\n",
    "    inum = int(item['count'])\n",
    "    total = total + inum\n",
    "\n",
    "print(total)"
   ]
  },
  {
   "cell_type": "code",
   "execution_count": null,
   "id": "da01f2b0",
   "metadata": {},
   "outputs": [],
   "source": []
  }
 ],
 "metadata": {
  "kernelspec": {
   "display_name": "Python 3",
   "language": "python",
   "name": "python3"
  },
  "language_info": {
   "codemirror_mode": {
    "name": "ipython",
    "version": 3
   },
   "file_extension": ".py",
   "mimetype": "text/x-python",
   "name": "python",
   "nbconvert_exporter": "python",
   "pygments_lexer": "ipython3",
   "version": "3.8.8"
  }
 },
 "nbformat": 4,
 "nbformat_minor": 5
}
