{
 "cells": [
  {
   "cell_type": "code",
   "execution_count": 4,
   "id": "6c00ffc5",
   "metadata": {},
   "outputs": [
    {
     "name": "stdout",
     "output_type": "stream",
     "text": [
      "Enter score between 0 and 1: a\n",
      "Value is not a number\n",
      "F\n"
     ]
    }
   ],
   "source": [
    "score = input(\"Enter score between 0 and 1: \")\n",
    "try:\n",
    "    s = float(score)\n",
    "except:\n",
    "    print('Value is not a number')\n",
    "    quit()\n",
    "\n",
    "if s >= 0.9:\n",
    "    print('A')\n",
    "elif s >=0.8:\n",
    "    print('B')\n",
    "elif s >= 0.7:\n",
    "    print('C')\n",
    "elif s >= 0.6:\n",
    "    print('D')\n",
    "elif s < 0.6 and s > 0:\n",
    "    print('F')\n",
    "else:\n",
    "    print('Value is out range')"
   ]
  },
  {
   "cell_type": "code",
   "execution_count": null,
   "id": "f6307466",
   "metadata": {},
   "outputs": [],
   "source": []
  },
  {
   "cell_type": "code",
   "execution_count": null,
   "id": "78429956",
   "metadata": {},
   "outputs": [],
   "source": []
  }
 ],
 "metadata": {
  "kernelspec": {
   "display_name": "Python 3",
   "language": "python",
   "name": "python3"
  },
  "language_info": {
   "codemirror_mode": {
    "name": "ipython",
    "version": 3
   },
   "file_extension": ".py",
   "mimetype": "text/x-python",
   "name": "python",
   "nbconvert_exporter": "python",
   "pygments_lexer": "ipython3",
   "version": "3.8.8"
  }
 },
 "nbformat": 4,
 "nbformat_minor": 5
}
