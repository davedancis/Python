{
 "cells": [
  {
   "cell_type": "code",
   "execution_count": 55,
   "id": "7037c221",
   "metadata": {},
   "outputs": [
    {
     "name": "stdout",
     "output_type": "stream",
     "text": [
      "Enter file:\n",
      "04 3\n",
      "06 1\n",
      "07 1\n",
      "09 2\n",
      "10 3\n",
      "11 6\n",
      "14 1\n",
      "15 2\n",
      "16 4\n",
      "17 2\n",
      "18 1\n",
      "19 1\n"
     ]
    }
   ],
   "source": [
    "name = input(\"Enter file:\")\n",
    "if len(name) < 1:\n",
    "    name = \"Desktop/py4e/mbox-short.txt\"\n",
    "handle = open(name)\n",
    "\n",
    "counts = dict()\n",
    "\n",
    "for line in handle:\n",
    "    line = line.rstrip()\n",
    "    words = line.split()\n",
    "    if len(words) < 3:\n",
    "        continue\n",
    "    if words[0] != 'From':\n",
    "        continue\n",
    "    timestamp = words[5]\n",
    "    times = timestamp.split(\":\")\n",
    "    hours = times[0]\n",
    "    counts[hours] = counts.get(hours,0) + 1\n",
    "\n",
    "x = sorted(counts.items())\n",
    "\n",
    "for k,v in x:\n",
    "    print(k, v)"
   ]
  }
 ],
 "metadata": {
  "kernelspec": {
   "display_name": "Python 3",
   "language": "python",
   "name": "python3"
  },
  "language_info": {
   "codemirror_mode": {
    "name": "ipython",
    "version": 3
   },
   "file_extension": ".py",
   "mimetype": "text/x-python",
   "name": "python",
   "nbconvert_exporter": "python",
   "pygments_lexer": "ipython3",
   "version": "3.8.8"
  }
 },
 "nbformat": 4,
 "nbformat_minor": 5
}
